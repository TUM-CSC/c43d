{
 "cells": [
  {
   "cell_type": "markdown",
   "metadata": {},
   "source": [
    "# Towards Solving Connect Four 3D\n",
    "\n",
    "## Introduction\n",
    " \n",
    "Connect Four 3D (aka Sogo, Connect Four advanced or Score Four) is a two player strategy game. It is a 3D version of the game Connect Four and is played on a 3 dimensional 4x4x4 board. Both players alternate to place one stone in their color on any column which doesn't already contain 4 stones. The stone then falls to the bottom of the column. The player who manages to place four stones in a line, be it in a row, column or diagonal, wins the game. The game is related to 3D Tic Tac Toe (aka Qubic). The only one difference between the two is that in Qubic placed stones stay in place while they fall in Connect Four 3D. Patashnik proved 1980 that Qubic is a first player win[8].\n",
    "\n",
    "\n",
    "The goal of this project was to progress towards solving connect four 3D. Particularly, the goal was to improve on a bachelor thesis by Deutrich[3]. His solver managed to solve some positions with 18/20 placed stones in under one hour on a regular laptop using no parallelism. In this work I present two solvers. The first one is an implementation of the Minimax algorithm that attempts to solve a position as fast as possible on a single CPU. The second solver distributes the search among many Minimax solvers of the first kind to achieve much better performance by using parallelism.\n",
    "\n",
    "\n",
    "The solvers presented here are implemented using C++. For parallelism the OpenMP library[6] was used. The solver was used to solve difficult positions on the CooLMUC-2 cluster which is part of the Linux cluster of the LRZ[7].\n",
    "\n",
    "\n",}

  {
   "cell_type": "markdown",
   "metadata": {},
   "source": [
    "## References\n",
    "\n",
    "[1] I.-C. Wu, H.-H. Lin, P.-H. Lin, D.-J. Sun, Y.-C. Chan, and B.-T. Chen. Job-level proofnumber search for connect6. In Proceedings of the 7th International Conference on Computers and Games, volume 6515, pages 11–22. Springer-Verlag, 2010.\n",
    "\n",
    "\n",
    "[2] Breuker, Dennis M., Jos WHM Uiterwijk, and H. Jaap van den Herik. Replacement schemes for transposition tables. In ICGA Journal 17.4, pages 183-193, 1994.\n",
    "\n",
    "\n",
    "[3] M. Deutrich. Determining the value of connect four 3d. Bachelor’s thesis, Technische Universität München, 2019.\n",
    "\n",
    "\n",
    "[4] A. Kishimoto, M. H. M. Winands, M. Müller, and J.-T. Saito. Game-tree search using proof numbers: The first twenty years.International Computer Games Association Journal, 35(3):131–156, 2012.\n",
    "\n",
    "\n",
    "[5] Solving Connect 4: How to build a perfect AI, Pascal Pons, https://blog.gamesolver.org/solving-connect-four/01-introduction/\n",
    "\n",
    "\n",
    "[6] OpenMP, https://www.openmp.org/\n",
    "\n",
    "\n",
    "[7] Leibniz-Rechenzentrum, https://www.lrz.de/\n",
    "\n",
    "\n",
    "[8] Patashnik, Oren. \"Qubic: 4× 4× 4 tic-tac-toe.\" Mathematics Magazine 53.4 (1980): 202-216."
   ]
  }
 ],
 "metadata": {
  "kernelspec": {
   "display_name": "Python 3",
   "language": "python",
   "name": "python3"
  },
  "language_info": {
   "codemirror_mode": {
    "name": "ipython",
    "version": 3
   },
   "file_extension": ".py",
   "mimetype": "text/x-python",
   "name": "python",
   "nbconvert_exporter": "python",
   "pygments_lexer": "ipython3",
   "version": "3.7.3"
  }
 },
 "nbformat": 4,
 "nbformat_minor": 2
}
